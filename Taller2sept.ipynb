{
 "cells": [
  {
   "cell_type": "code",
   "execution_count": 1,
   "metadata": {},
   "outputs": [],
   "source": [
    "import pandas as pd\n",
    "import numpy as np\n",
    "from sklearn.metrics import mean_squared_error\n",
    "from sklearn.pipeline import FeatureUnion, Pipeline, make_pipeline\n",
    "from sklearn.base import BaseEstimator, TransformerMixin\n",
    "from sklearn.linear_model import LinearRegression"
   ]
  },
  {
   "cell_type": "code",
   "execution_count": 2,
   "metadata": {},
   "outputs": [],
   "source": [
    "x1 = [47, 30, 15, 24, 18, 26, 41, 30, 27, 15, 12, 10, 29, 35, 30, 46, 26,\n",
    "       40, 42, 34, 29, 17, 11, 15, 44, 25, 34, 20, 39, 38]\n",
    "x2 = [215, 137, 169, 177, 174, 157, 115, 252, 218, 193, 100, 297, 145,\n",
    "       132, 205, 262, 146, 279, 218, 222, 101, 146, 267, 127, 264, 157,\n",
    "       194, 218, 144, 263]\n",
    "y =  np.sqrt(x2) + np.exp(x1)\n",
    "df = pd.DataFrame(data = {'y':y, 'x1':x1, 'x2':x2})"
   ]
  },
  {
   "cell_type": "code",
   "execution_count": 3,
   "metadata": {},
   "outputs": [],
   "source": [
    "train, test = df.iloc[:18], df.iloc[18:]"
   ]
  },
  {
   "cell_type": "code",
   "execution_count": 4,
   "metadata": {},
   "outputs": [],
   "source": [
    "y_train = train['y']\n",
    "x_train = train.drop('y', axis = 1)\n",
    "y_test = test['y']\n",
    "x_test = test.drop('y', axis = 1)"
   ]
  },
  {
   "cell_type": "code",
   "execution_count": 12,
   "metadata": {},
   "outputs": [],
   "source": [
    "class transformCustomized(BaseEstimator, TransformerMixin):\n",
    "    def __init__(self):\n",
    "        print('Se inició el transformer')\n",
    "\n",
    "    def fit(self, X, y = None):\n",
    "        print('\\n>>>>>>>fit() called.\\n')\n",
    "        return self\n",
    "\n",
    "    def transform(self, x, y = None):\n",
    "        x_ = x.copy()\n",
    "        x_.x2 = np.sqrt(x_.x2)\n",
    "        x_.x1 = np.exp(x_.x1)\n",
    "        print('Se transformaron las columnas')\n",
    "        return x_"
   ]
  },
  {
   "cell_type": "code",
   "execution_count": 7,
   "metadata": {},
   "outputs": [
    {
     "name": "stdout",
     "output_type": "stream",
     "text": [
      "RMSE: 4.150693022515436e+19\n",
      "\n"
     ]
    }
   ],
   "source": [
    "pipe1 = Pipeline(steps = [('LR', LinearRegression())])\n",
    "pipe1.fit(x_train, y_train)\n",
    "preds1 = pipe1.predict(x_test)\n",
    "print(f\"RMSE: {np.sqrt(mean_squared_error(y_test, preds1))}\\n\")"
   ]
  },
  {
   "cell_type": "code",
   "execution_count": 13,
   "metadata": {},
   "outputs": [
    {
     "name": "stdout",
     "output_type": "stream",
     "text": [
      "Se inició el transformer\n",
      "\n",
      ">>>>>>>fit() called.\n",
      "\n",
      "Se transformaron las columnas\n",
      "Se transformaron las columnas\n",
      "RMSE: 3934.284086244969\n",
      "\n"
     ]
    }
   ],
   "source": [
    "pipe2 = Pipeline(steps = [('transformer', transformCustomized()),\n",
    "                          ('LR',LinearRegression())])\n",
    "pipe2.fit(x_train, y_train)\n",
    "preds2 = pipe2.predict(x_test)\n",
    "print(f\"RMSE: {np.sqrt(mean_squared_error(y_test, preds2))}\\n\")"
   ]
  },
  {
   "cell_type": "markdown",
   "metadata": {},
   "source": [
    "COMO SE PUEDE OBSERVAR EL RMSE DEL SET DE DATOS SIN TRANSFORMAR ES MAYOR AL SET DE DATOS TRANSFORMADOS"
   ]
  }
 ],
 "metadata": {
  "kernelspec": {
   "display_name": "Python 3",
   "language": "python",
   "name": "python3"
  },
  "language_info": {
   "codemirror_mode": {
    "name": "ipython",
    "version": 3
   },
   "file_extension": ".py",
   "mimetype": "text/x-python",
   "name": "python",
   "nbconvert_exporter": "python",
   "pygments_lexer": "ipython3",
   "version": "3.11.5"
  },
  "orig_nbformat": 4
 },
 "nbformat": 4,
 "nbformat_minor": 2
}
